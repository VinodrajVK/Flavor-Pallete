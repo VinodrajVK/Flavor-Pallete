{
 "cells": [
  {
   "cell_type": "code",
   "execution_count": 226,
   "metadata": {},
   "outputs": [],
   "source": [
    "import difflib\n",
    "import pandas as pd"
   ]
  },
  {
   "cell_type": "code",
   "execution_count": 227,
   "metadata": {},
   "outputs": [],
   "source": [
    "data = pd.read_csv('food_data.csv')"
   ]
  },
  {
   "cell_type": "code",
   "execution_count": 228,
   "metadata": {},
   "outputs": [],
   "source": [
    "def match_score(s1, s2):\n",
    "    match = difflib.SequenceMatcher(None, s1, s2).ratio()\n",
    "    return match"
   ]
  },
  {
   "cell_type": "code",
   "execution_count": 229,
   "metadata": {},
   "outputs": [],
   "source": [
    "def get_matches(ip):\n",
    "    matches = []\n",
    "    for i in range(len(data['ingredients'])):\n",
    "        count = 0\n",
    "        for j in range(len(ip)):\n",
    "            ingd = data['ingredients'][i].split(\",\")\n",
    "            for k in range(len(ingd)):\n",
    "                if ingd[k].find(ip[j]) != -1:\n",
    "                    count+=1\n",
    "        matches.append(count)\n",
    "    return matches"
   ]
  },
  {
   "cell_type": "code",
   "execution_count": 230,
   "metadata": {},
   "outputs": [],
   "source": [
    "def jaccard_similarity(ip):\n",
    "    jaccard_scores = []\n",
    "    s1 = ip\n",
    "    for i in range(len(data['ingredients'])):\n",
    "        s2 = (data['ingredients'][i].split(\", \"))\n",
    "        jaccard_scores.append(match_score(s1,s2))\n",
    "    return jaccard_scores"
   ]
  },
  {
   "cell_type": "code",
   "execution_count": 231,
   "metadata": {},
   "outputs": [
    {
     "name": "stdout",
     "output_type": "stream",
     "text": [
      "Gulab Jamun  :  Milk Powder, All-Purpose Flour, Sugar, Water, Rose Water, Cardamom Powder, Ghee\n"
     ]
    }
   ],
   "source": [
    "ip = \"Milk Powder, Sugar, Water, Rose Water\"\n",
    "ip_data = ip.split(\", \")\n",
    "match = get_matches(ip_data)\n",
    "for i in range(len(match)):\n",
    "    if match[i] == max(match):\n",
    "        print(data['name'][i],\" : \", data['ingredients'][i])"
   ]
  }
 ],
 "metadata": {
  "kernelspec": {
   "display_name": "Python 3",
   "language": "python",
   "name": "python3"
  },
  "language_info": {
   "codemirror_mode": {
    "name": "ipython",
    "version": 3
   },
   "file_extension": ".py",
   "mimetype": "text/x-python",
   "name": "python",
   "nbconvert_exporter": "python",
   "pygments_lexer": "ipython3",
   "version": "3.12.2"
  }
 },
 "nbformat": 4,
 "nbformat_minor": 2
}
